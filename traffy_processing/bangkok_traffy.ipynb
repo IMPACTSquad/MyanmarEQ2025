{
 "cells": [
  {
   "cell_type": "markdown",
   "metadata": {},
   "source": [
    "https://bangkok.traffy.in.th/\n",
    "\n",
    "Download all the data: https://www.traffy.in.th/?page_id=27351"
   ]
  },
  {
   "cell_type": "code",
   "execution_count": null,
   "metadata": {},
   "outputs": [],
   "source": [
    "import pandas as pd\n",
    "import numpy as np\n",
    "import goslate\n",
    "from tqdm import tqdm\n",
    "from pathlib import Path\n",
    "import os"
   ]
  },
  {
   "cell_type": "code",
   "execution_count": null,
   "metadata": {},
   "outputs": [],
   "source": [
    "def load_csv(file_name):\n",
    "    # Get the path to the current directory\n",
    "    current_dir = Path.cwd()\n",
    "    \n",
    "    # Define the relative path to the CSV file from the current directory\n",
    "    csv_data = os.path.join(current_dir, \"traffy_data\")\n",
    "    csv_path = os.path.join(csv_data, file_name)\n",
    "    # Load the CSV file\n",
    "    df = pd.read_csv(csv_path, delimiter=',')\n",
    "    \n",
    "    return df\n",
    "\n",
    "df = load_csv('bangkok_traffy_0104.csv')"
   ]
  },
  {
   "cell_type": "code",
   "execution_count": 3,
   "metadata": {},
   "outputs": [],
   "source": [
    "selected_df = df[['ticket_id', 'organization', 'comment',\n",
    "       'coords', 'photo', 'photo_after', 'timestamp',\n",
    "       'last_activity']]"
   ]
  },
  {
   "cell_type": "code",
   "execution_count": 23,
   "metadata": {},
   "outputs": [],
   "source": [
    "# Convert 'timestamp' to datetime while handling mixed formats\n",
    "df['timestamp'] = pd.to_datetime(df['timestamp'], format='mixed', utc=True)\n",
    "\n",
    "# Define the full-day range for March 28, 2025\n",
    "start_date = pd.Timestamp(\"2025-03-28 00:00:00\", tz=\"UTC\")\n",
    "end_date = pd.Timestamp(\"2025-04-01 23:59:59\", tz=\"UTC\")\n",
    "\n",
    "# Filter for all timestamps on March 28, 2025\n",
    "df_selected = df[(df['timestamp'] >= start_date) & (df['timestamp'] <= end_date)]"
   ]
  },
  {
   "cell_type": "code",
   "execution_count": 24,
   "metadata": {},
   "outputs": [],
   "source": [
    "df_selected.to_csv(\"traffy_data/bangkok_traffy_march_all_0104.csv\",  encoding=\"utf-8-sig\",)"
   ]
  }
 ],
 "metadata": {
  "kernelspec": {
   "display_name": "ESL",
   "language": "python",
   "name": "python3"
  },
  "language_info": {
   "codemirror_mode": {
    "name": "ipython",
    "version": 3
   },
   "file_extension": ".py",
   "mimetype": "text/x-python",
   "name": "python",
   "nbconvert_exporter": "python",
   "pygments_lexer": "ipython3",
   "version": "3.12.0"
  }
 },
 "nbformat": 4,
 "nbformat_minor": 2
}
