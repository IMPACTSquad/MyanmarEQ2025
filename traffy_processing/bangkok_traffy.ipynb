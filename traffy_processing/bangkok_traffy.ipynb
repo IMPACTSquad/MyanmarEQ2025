{
 "cells": [
  {
   "cell_type": "markdown",
   "metadata": {},
   "source": [
    "https://bangkok.traffy.in.th/\n",
    "\n",
    "Download all the data: https://www.traffy.in.th/?page_id=27351"
   ]
  },
  {
   "cell_type": "code",
   "execution_count": 21,
   "metadata": {},
   "outputs": [],
   "source": [
    "import pandas as pd\n",
    "import numpy as np\n",
    "import goslate\n",
    "from googletrans import Translator\n",
    "from translate import Translator\n",
    "from deep_translator import GoogleTranslator\n",
    "from tqdm import tqdm"
   ]
  },
  {
   "cell_type": "code",
   "execution_count": null,
   "metadata": {},
   "outputs": [],
   "source": [
    "# add \"ticket_id\", coordinates and photo later (those don't need translating)\n",
    "# perhaps use dictionary to find out about the damage authorities"
   ]
  },
  {
   "cell_type": "code",
   "execution_count": 22,
   "metadata": {},
   "outputs": [],
   "source": [
    "df = pd.read_csv(\"/Users/lb962/Documents/GitHub/MyanmarEQ2025/traffy_processing/traffy_data/bangkok_traffy_0104.csv\", delimiter=',')\n",
    "#selected_df = df[[\"type\", \"comment\"]]"
   ]
  },
  {
   "cell_type": "code",
   "execution_count": 3,
   "metadata": {},
   "outputs": [],
   "source": [
    "selected_df = df[['ticket_id', 'organization', 'comment',\n",
    "       'coords', 'photo', 'photo_after', 'timestamp',\n",
    "       'last_activity']]"
   ]
  },
  {
   "cell_type": "code",
   "execution_count": 23,
   "metadata": {},
   "outputs": [],
   "source": [
    "# Convert 'timestamp' to datetime while handling mixed formats\n",
    "df['timestamp'] = pd.to_datetime(df['timestamp'], format='mixed', utc=True)\n",
    "\n",
    "# Define the full-day range for March 28, 2025\n",
    "start_date = pd.Timestamp(\"2025-03-28 00:00:00\", tz=\"UTC\")\n",
    "end_date = pd.Timestamp(\"2025-04-01 23:59:59\", tz=\"UTC\")\n",
    "\n",
    "# Filter for all timestamps on March 28, 2025\n",
    "df_selected = df[(df['timestamp'] >= start_date) & (df['timestamp'] <= end_date)]"
   ]
  },
  {
   "cell_type": "code",
   "execution_count": 24,
   "metadata": {},
   "outputs": [],
   "source": [
    "df_selected.to_csv(\"traffy_data/bangkok_traffy_march_all_0104.csv\",  encoding=\"utf-8-sig\",)"
   ]
  }
 ],
 "metadata": {
  "kernelspec": {
   "display_name": "ESL",
   "language": "python",
   "name": "python3"
  },
  "language_info": {
   "codemirror_mode": {
    "name": "ipython",
    "version": 3
   },
   "file_extension": ".py",
   "mimetype": "text/x-python",
   "name": "python",
   "nbconvert_exporter": "python",
   "pygments_lexer": "ipython3",
   "version": "3.12.0"
  }
 },
 "nbformat": 4,
 "nbformat_minor": 2
}
